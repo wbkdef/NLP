{
 "metadata": {
  "name": ""
 },
 "nbformat": 3,
 "nbformat_minor": 0,
 "worksheets": [
  {
   "cells": [
    {
     "cell_type": "code",
     "collapsed": false,
     "input": [
      "import nltk\n",
      "from nltk.corpus import ppattach\n",
      "print ppattach.attachments('training')[0]\n",
      "print ppattach.attachments('devset')[0]\n",
      "print ppattach.attachments('test')[0]"
     ],
     "language": "python",
     "metadata": {},
     "outputs": [
      {
       "output_type": "stream",
       "stream": "stdout",
       "text": [
        "PPAttachment(sent='0', verb='join', noun1='board', prep='as', noun2='director', attachment='V')\n",
        "PPAttachment(sent='40000', verb='set', noun1='stage', prep='for', noun2='increase', attachment='N')"
       ]
      },
      {
       "output_type": "stream",
       "stream": "stdout",
       "text": [
        "\n",
        "PPAttachment(sent='48000', verb='prepare', noun1='dinner', prep='for', noun2='family', attachment='V')"
       ]
      },
      {
       "output_type": "stream",
       "stream": "stdout",
       "text": [
        "\n"
       ]
      }
     ],
     "prompt_number": 2
    },
    {
     "cell_type": "heading",
     "level": 3,
     "metadata": {},
     "source": [
      "All Combinations of Features"
     ]
    },
    {
     "cell_type": "code",
     "collapsed": false,
     "input": [
      "\n",
      "def get_feats(ppa):\n",
      "    feats={('V','N1','P','N2'):(ppa.verb,ppa.noun1,ppa.prep,ppa.noun2)}\n",
      "    for i in range(4):\n",
      "        for key in feats.keys(): #Make a copy of keys, b/c adding new elements to the dictionary!\n",
      "            value=feats[key]\n",
      "            lk=list(key)\n",
      "            lk[i]=\"\"\n",
      "            tk=tuple(lk)\n",
      "            lv=list(value)\n",
      "            lv[i]=\"\"\n",
      "            tv=tuple(lv)\n",
      "            assert tk not in feats\n",
      "            feats[tk]=tv\n",
      "    return feats\n",
      "def get_list_of_feats_lables(data):\n",
      "#     data_tuples=[(ppa,ppa.attachment) for ppa in data]\n",
      "#     feat_lable_tuples=nltk.classify.apply_features(get_feats,data)\n",
      "    feat_lable_tuples=[(get_feats(ppa),ppa.attachment) for ppa in data]\n",
      "    return feat_lable_tuples\n",
      "train=ppattach.attachments('training')\n",
      "train_feats_labels=get_list_of_feats_lables(train)\n",
      "dev=ppattach.attachments('devset')\n",
      "dev_feats_labels=get_list_of_feats_lables(dev)\n",
      "\n",
      "classifier=nltk.NaiveBayesClassifier.train(train_feats_labels)\n",
      "print train[0]\n",
      "print train_feats_labels[0]\n",
      "nltk.classify.accuracy(classifier,dev_feats_labels)\n",
      "\n",
      "         "
     ],
     "language": "python",
     "metadata": {},
     "outputs": [
      {
       "output_type": "stream",
       "stream": "stdout",
       "text": [
        "PPAttachment(sent='0', verb='join', noun1='board', prep='as', noun2='director', attachment='V')\n",
        "({('V', '', '', 'N2'): ('join', '', '', 'director'), ('V', 'N1', 'P', ''): ('join', 'board', 'as', ''), ('', 'N1', '', ''): ('', 'board', '', ''), ('', 'N1', '', 'N2'): ('', 'board', '', 'director'), ('V', 'N1', '', 'N2'): ('join', 'board', '', 'director'), ('V', '', 'P', ''): ('join', '', 'as', ''), ('', 'N1', 'P', 'N2'): ('', 'board', 'as', 'director'), ('', '', '', ''): ('', '', '', ''), ('', '', 'P', 'N2'): ('', '', 'as', 'director'), ('V', '', 'P', 'N2'): ('join', '', 'as', 'director'), ('V', 'N1', '', ''): ('join', 'board', '', ''), ('V', 'N1', 'P', 'N2'): ('join', 'board', 'as', 'director'), ('', '', '', 'N2'): ('', '', '', 'director'), ('V', '', '', ''): ('join', '', '', ''), ('', 'N1', 'P', ''): ('', 'board', 'as', ''), ('', '', 'P', ''): ('', '', 'as', '')}, 'V')\n"
       ]
      },
      {
       "metadata": {},
       "output_type": "pyout",
       "prompt_number": 19,
       "text": [
        "0.8338697697449864"
       ]
      }
     ],
     "prompt_number": 19
    },
    {
     "cell_type": "heading",
     "level": 3,
     "metadata": {},
     "source": [
      "Baseline"
     ]
    },
    {
     "cell_type": "code",
     "collapsed": false,
     "input": [
      "def get_feats(ppa):\n",
      "    feats={('P',):(ppa.prep,)}\n",
      "    for i in range(len(feats)):\n",
      "        for key in feats.keys(): #Make a copy of keys, b/c adding new elements to the dictionary!\n",
      "            value=feats[key]\n",
      "            lk=list(key)\n",
      "            lk[i]=\"\"\n",
      "            tk=tuple(lk)\n",
      "            lv=list(value)\n",
      "            lv[i]=\"\"\n",
      "            tv=tuple(lv)\n",
      "            assert tk not in feats\n",
      "            feats[tk]=tv\n",
      "    return feats\n",
      "def get_list_of_feats_lables(data):\n",
      "#     data_tuples=[(ppa,ppa.attachment) for ppa in data]\n",
      "#     feat_lable_tuples=nltk.classify.apply_features(get_feats,data)\n",
      "    feat_lable_tuples=[(get_feats(ppa),ppa.attachment) for ppa in data]\n",
      "    return feat_lable_tuples\n",
      "train=ppattach.attachments('training')\n",
      "train_feats_labels=get_list_of_feats_lables(train)\n",
      "dev=ppattach.attachments('devset')\n",
      "dev_feats_labels=get_list_of_feats_lables(dev)\n",
      "\n",
      "classifier=nltk.NaiveBayesClassifier.train(train_feats_labels)\n",
      "print train[0]\n",
      "print train_feats_labels[0]\n",
      "nltk.classify.accuracy(classifier,dev_feats_labels)"
     ],
     "language": "python",
     "metadata": {},
     "outputs": [
      {
       "output_type": "stream",
       "stream": "stdout",
       "text": [
        "PPAttachment(sent='0', verb='join', noun1='board', prep='as', noun2='director', attachment='V')\n",
        "({('',): ('',), ('P',): ('as',)}, 'V')\n"
       ]
      },
      {
       "metadata": {},
       "output_type": "pyout",
       "prompt_number": 22,
       "text": [
        "0.7420153503342412"
       ]
      }
     ],
     "prompt_number": 22
    },
    {
     "cell_type": "code",
     "collapsed": false,
     "input": [],
     "language": "python",
     "metadata": {},
     "outputs": []
    }
   ],
   "metadata": {}
  }
 ]
}