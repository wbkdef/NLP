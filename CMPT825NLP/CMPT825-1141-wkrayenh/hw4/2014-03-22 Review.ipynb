{
 "metadata": {
  "name": ""
 },
 "nbformat": 3,
 "nbformat_minor": 0,
 "worksheets": [
  {
   "cells": [
    {
     "cell_type": "code",
     "collapsed": false,
     "input": [
      "sentence = [(\"the\", \"DT\"), (\"little\", \"JJ\"), (\"yellow\", \"JJ\"), \n",
      "... (\"dog\", \"NN\"), (\"barked\", \"VBD\"), (\"at\", \"IN\"), (\"the\", \"DT\"), (\"cat\", \"NN\")]\n",
      "import nltk"
     ],
     "language": "python",
     "metadata": {},
     "outputs": [],
     "prompt_number": 1
    },
    {
     "cell_type": "code",
     "collapsed": false,
     "input": [
      "grammar=\"NP : {<DT>?<JJ>*<NN>}\"\n",
      "parser=nltk.RegexpParser(grammar)\n",
      "p=parser.parse(sentence)\n",
      "print p"
     ],
     "language": "python",
     "metadata": {},
     "outputs": [
      {
       "output_type": "stream",
       "stream": "stdout",
       "text": [
        "(S\n",
        "  (NP the/DT little/JJ yellow/JJ dog/NN)\n",
        "  barked/VBD\n",
        "  at/IN\n",
        "  (NP the/DT cat/NN))\n"
       ]
      }
     ],
     "prompt_number": 3
    },
    {
     "cell_type": "code",
     "collapsed": false,
     "input": [
      "import nltk\n",
      "\n",
      "grammar = nltk.parse_cfg(\"\"\"\n",
      "S -> NP VP\n",
      "NP -> 'John' | 'Mary' | 'Bob' | Det N | Det N PP\n",
      "VP -> V NP | V NP PP |V\n",
      "Det -> 'a' | 'an' | 'the' | 'my'\n",
      "N -> \"jodie\" | \"freestyle\" | \"age\" | \"sandy\" | \"i\"\n",
      "V -> \"won\" | \"reported\" | \"said\" | \"think\"\n",
      "PP -> P NP\n",
      "P -> 'in' | 'on' | 'by' | 'with'\n",
      "\"\"\")\n",
      "\n",
      "cp=nltk.ChartParser(grammar)\n",
      "print cp.parse(\"Mary won\".split())"
     ],
     "language": "python",
     "metadata": {},
     "outputs": [
      {
       "output_type": "stream",
       "stream": "stdout",
       "text": [
        "(S (NP Mary) (VP (V won)))\n"
       ]
      }
     ],
     "prompt_number": 8
    },
    {
     "cell_type": "code",
     "collapsed": false,
     "input": [
      "sentence = [(\"the\", \"DT\"), (\"little\", \"JJ\"), (\"yellow\", \"JJ\"), \n",
      "... (\"dog\", \"NN\"), (\"barked\", \"VBD\"), (\"at\", \"IN\"), (\"the\", \"DT\"), (\"cat\", \"NN\")]\n",
      "c=nltk.RegexpParser(\"NP : {<DT>?<JJ>*<NN>}\")\n",
      "print c.parse(sentence)"
     ],
     "language": "python",
     "metadata": {},
     "outputs": [
      {
       "output_type": "stream",
       "stream": "stdout",
       "text": [
        "(S\n",
        "  (NP the/DT little/JJ yellow/JJ dog/NN)\n",
        "  barked/VBD\n",
        "  at/IN\n",
        "  (NP the/DT cat/NN))\n"
       ]
      }
     ],
     "prompt_number": 9
    },
    {
     "cell_type": "code",
     "collapsed": false,
     "input": [
      "grammar = nltk.parse_cfg(\"\"\"\n",
      "S -> NP VP\n",
      "NP ->  Det NP | Det N PP | N NP | N\n",
      "VP -> V NP | V NP PP | V | V DT NP\n",
      "Det -> 'a' | 'an' | 'the' | 'my'\n",
      "N -> \"jodie\" | \"freestyle\" | \"age\" | \"sandy\" | \"i\" | 'Jodie' | '100m' | 'Bob'\n",
      "V -> \"won\" | \"reported\" | \"said\" | \"think\"\n",
      "PP -> P NP\n",
      "P -> 'in' | 'on' | 'by' | 'with'\n",
      "\"\"\")\n",
      "cp=nltk.ChartParser(grammar)\n",
      "print cp.parse(\"Jodie won the 100m freestyle\".split())\n"
     ],
     "language": "python",
     "metadata": {},
     "outputs": [
      {
       "output_type": "stream",
       "stream": "stdout",
       "text": [
        "(S\n",
        "  (NP (N Jodie))\n",
        "  (VP (V won) (NP (Det the) (NP (N 100m) (NP (N freestyle))))))\n"
       ]
      }
     ],
     "prompt_number": 17
    },
    {
     "cell_type": "code",
     "collapsed": false,
     "input": [
      "sentence = [(\"the\", \"DT\"), (\"little\", \"JJ\"), (\"yellow\", \"JJ\"), \n",
      "... (\"dog\", \"NN\"), (\"barked\", \"VBD\"), (\"at\", \"IN\"), (\"the\", \"DT\"), (\"cat\", \"NN\")]\n",
      "p=nltk.RegexpParser(\"NP : {<DT>?<JJ>*<NN>}\")\n",
      "print p.parse(sentence)"
     ],
     "language": "python",
     "metadata": {},
     "outputs": [
      {
       "output_type": "stream",
       "stream": "stdout",
       "text": [
        "(S\n",
        "  (NP the/DT little/JJ yellow/JJ dog/NN)\n",
        "  barked/VBD\n",
        "  at/IN\n",
        "  (NP the/DT cat/NN))\n"
       ]
      }
     ],
     "prompt_number": 18
    },
    {
     "cell_type": "code",
     "collapsed": false,
     "input": [
      "grammar = nltk.parse_cfg(\"\"\"\n",
      "S -> NP VP\n",
      "NP -> 'Jodie' | 'Mary' | 'Bob' | Det N | Det N PP | 100m | N\n",
      "VP -> V NP | V NP PP | V\n",
      "Det -> 'a' | 'an' | 'the' | 'my'\n",
      "N -> \"jodie\" | \"freestyle\" | \"age\" | \"sandy\" | \"i\"\n",
      "V -> \"won\" | \"reported\" | \"said\" | \"think\"\n",
      "PP -> P NP\n",
      "P -> 'in' | 'on' | 'by' | 'with'\n",
      "\"\"\")\n",
      "p = nltk.ChartParser(grammar)\n",
      "print p.parse(\"Mary won\".split())"
     ],
     "language": "python",
     "metadata": {},
     "outputs": [
      {
       "output_type": "stream",
       "stream": "stdout",
       "text": [
        "(S (NP Mary) (VP (V won)))\n"
       ]
      }
     ],
     "prompt_number": 21
    },
    {
     "cell_type": "code",
     "collapsed": false,
     "input": [],
     "language": "python",
     "metadata": {},
     "outputs": []
    }
   ],
   "metadata": {}
  }
 ]
}