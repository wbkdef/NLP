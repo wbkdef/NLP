{
 "metadata": {
  "name": ""
 },
 "nbformat": 3,
 "nbformat_minor": 0,
 "worksheets": [
  {
   "cells": [
    {
     "cell_type": "code",
     "collapsed": false,
     "input": [
      "import nltk"
     ],
     "language": "python",
     "metadata": {},
     "outputs": [],
     "prompt_number": 1
    },
    {
     "cell_type": "code",
     "collapsed": false,
     "input": [
      "grammar=nltk.parse_cfg(\"\"\"\n",
      "S -> NP V CC S | NP V S\n",
      "S -> NP VP\n",
      "VP -> V NP | V NP PP\n",
      "PP -> P NP\n",
      "NP -> N | Det NP | Det JJ NP\n",
      "JJ -> \"100m\"\n",
      "N -> \"jodie\" | \"freestyle\" | \"age\" | \"sandy\" | \"i\"\n",
      "V -> \"won\" | \"reported\" | \"said\" | \"think\"\n",
      "Det -> \"the\"\n",
      "CC -> \"that\"\n",
      "\"\"\")\n",
      "parser=nltk.ChartParser(grammar)\n",
      "p=parser.parse(\"Jodie won the 100m freestyle\".lower().split())\n",
      "print p\n",
      "p=parser.parse(\"The Age reported that Jodie won the 100m freestyle\".lower().split())\n",
      "print p\n",
      "p=parser.parse(\"Sandy said The Age reported that Jodie won the 100m freestyle\".lower().split())\n",
      "print p\n",
      "p=parser.parse(\"I think Sandy said The Age reported that Jodie won the 100m freestyle\".lower().split())\n",
      "print p"
     ],
     "language": "python",
     "metadata": {},
     "outputs": [
      {
       "output_type": "stream",
       "stream": "stdout",
       "text": [
        "(S\n",
        "  (NP (N jodie))\n",
        "  (VP (V won) (NP (Det the) (JJ 100m) (NP (N freestyle)))))\n",
        "(S\n",
        "  (NP (Det the) (NP (N age)))\n",
        "  (V reported)\n",
        "  (CC that)\n",
        "  (S\n",
        "    (NP (N jodie))\n",
        "    (VP (V won) (NP (Det the) (JJ 100m) (NP (N freestyle))))))\n",
        "(S\n",
        "  (NP (N sandy))\n",
        "  (V said)\n",
        "  (S\n",
        "    (NP (Det the) (NP (N age)))\n",
        "    (V reported)\n",
        "    (CC that)\n",
        "    (S\n",
        "      (NP (N jodie))\n",
        "      (VP (V won) (NP (Det the) (JJ 100m) (NP (N freestyle)))))))\n",
        "(S\n",
        "  (NP (N i))\n",
        "  (V think)\n",
        "  (S\n",
        "    (NP (N sandy))\n",
        "    (V said)\n",
        "    (S\n",
        "      (NP (Det the) (NP (N age)))\n",
        "      (V reported)\n",
        "      (CC that)\n",
        "      (S\n",
        "        (NP (N jodie))\n",
        "        (VP (V won) (NP (Det the) (JJ 100m) (NP (N freestyle))))))))\n"
       ]
      }
     ],
     "prompt_number": 12
    },
    {
     "cell_type": "raw",
     "metadata": {},
     "source": [
      "TODO\n",
      "Finish Question 3\n",
      "Make Anki card(s)"
     ]
    },
    {
     "cell_type": "code",
     "collapsed": false,
     "input": [],
     "language": "python",
     "metadata": {},
     "outputs": []
    }
   ],
   "metadata": {}
  }
 ]
}