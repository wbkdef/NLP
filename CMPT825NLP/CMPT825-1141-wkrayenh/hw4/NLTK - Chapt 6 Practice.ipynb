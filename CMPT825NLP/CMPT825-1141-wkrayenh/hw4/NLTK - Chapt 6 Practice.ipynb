{
 "metadata": {
  "name": ""
 },
 "nbformat": 3,
 "nbformat_minor": 0,
 "worksheets": [
  {
   "cells": [
    {
     "cell_type": "code",
     "collapsed": false,
     "input": [
      "import nltk"
     ],
     "language": "python",
     "metadata": {},
     "outputs": [],
     "prompt_number": 1
    },
    {
     "cell_type": "code",
     "collapsed": false,
     "input": [
      "from nltk.corpus import names\n",
      "import random\n",
      "names=[(name,'male') for name in names.words('male.txt')]+\\\n",
      "        [(name,'female') for name in names.words('female.txt')]\n",
      "random.shuffle(names)\n",
      "print names[:10]"
     ],
     "language": "python",
     "metadata": {},
     "outputs": [
      {
       "output_type": "stream",
       "stream": "stdout",
       "text": [
        "[('Bartholemy', 'male'), ('Ali', 'male'), ('Keefe', 'male'), ('Elisha', 'male'), ('Ajay', 'male'), ('Wenonah', 'female'), ('Michail', 'male'), ('Filippa', 'female'), ('Shane', 'female'), ('Rourke', 'male')]\n"
       ]
      }
     ],
     "prompt_number": 3
    },
    {
     "cell_type": "code",
     "collapsed": false,
     "input": [
      "def gender_features(name):\n",
      "    return {'last_letter':name[-1],'first_letter':name[-1],\\\n",
      "            'last_letters':name[-2:]}"
     ],
     "language": "python",
     "metadata": {},
     "outputs": [],
     "prompt_number": 21
    },
    {
     "cell_type": "code",
     "collapsed": false,
     "input": [
      "featuresets=[(gender_features(n),l) for n,l in names]\n",
      "print featuresets[:10]"
     ],
     "language": "python",
     "metadata": {},
     "outputs": [
      {
       "output_type": "stream",
       "stream": "stdout",
       "text": [
        "[({'first_letter': 'y', 'last_letters': 'my', 'last_letter': 'y'}, 'male'), ({'first_letter': 'i', 'last_letters': 'li', 'last_letter': 'i'}, 'male'), ({'first_letter': 'e', 'last_letters': 'fe', 'last_letter': 'e'}, 'male'), ({'first_letter': 'a', 'last_letters': 'ha', 'last_letter': 'a'}, 'male'), ({'first_letter': 'y', 'last_letters': 'ay', 'last_letter': 'y'}, 'male'), ({'first_letter': 'h', 'last_letters': 'ah', 'last_letter': 'h'}, 'female'), ({'first_letter': 'l', 'last_letters': 'il', 'last_letter': 'l'}, 'male'), ({'first_letter': 'a', 'last_letters': 'pa', 'last_letter': 'a'}, 'female'), ({'first_letter': 'e', 'last_letters': 'ne', 'last_letter': 'e'}, 'female'), ({'first_letter': 'e', 'last_letters': 'ke', 'last_letter': 'e'}, 'male')]\n"
       ]
      }
     ],
     "prompt_number": 22
    },
    {
     "cell_type": "code",
     "collapsed": false,
     "input": [
      "from nltk.classify import apply_features\n",
      "train=apply_features(gender_features,names[500:])\n",
      "test=apply_features(gender_features,names[:500])"
     ],
     "language": "python",
     "metadata": {},
     "outputs": [],
     "prompt_number": 31
    },
    {
     "cell_type": "code",
     "collapsed": false,
     "input": [
      "classifier=nltk.NaiveBayesClassifier.train(train)"
     ],
     "language": "python",
     "metadata": {},
     "outputs": [],
     "prompt_number": 32
    },
    {
     "cell_type": "code",
     "collapsed": false,
     "input": [
      "classifier.classify(gender_features('Neo'))"
     ],
     "language": "python",
     "metadata": {},
     "outputs": [
      {
       "metadata": {},
       "output_type": "pyout",
       "prompt_number": 33,
       "text": [
        "'male'"
       ]
      }
     ],
     "prompt_number": 33
    },
    {
     "cell_type": "code",
     "collapsed": false,
     "input": [
      "classifier.classify(gender_features('God'))"
     ],
     "language": "python",
     "metadata": {},
     "outputs": [
      {
       "metadata": {},
       "output_type": "pyout",
       "prompt_number": 34,
       "text": [
        "'male'"
       ]
      }
     ],
     "prompt_number": 34
    },
    {
     "cell_type": "code",
     "collapsed": false,
     "input": [
      "nltk.classify.accuracy(classifier,test)"
     ],
     "language": "python",
     "metadata": {},
     "outputs": [
      {
       "metadata": {},
       "output_type": "pyout",
       "prompt_number": 35,
       "text": [
        "0.762"
       ]
      }
     ],
     "prompt_number": 35
    },
    {
     "cell_type": "code",
     "collapsed": false,
     "input": [
      "classifier.show_most_informative_features(10)"
     ],
     "language": "python",
     "metadata": {},
     "outputs": [
      {
       "output_type": "stream",
       "stream": "stdout",
       "text": [
        "Most Informative Features\n",
        "            last_letters = 'na'           female : male   =     99.3 : 1.0\n",
        "            last_letters = 'la'           female : male   =     75.5 : 1.0\n",
        "            last_letters = 'ia'           female : male   =     39.7 : 1.0\n",
        "            last_letters = 'sa'           female : male   =     36.4 : 1.0\n",
        "             last_letter = 'a'            female : male   =     35.5 : 1.0\n",
        "            first_letter = 'a'            female : male   =     35.5 : 1.0\n",
        "            last_letters = 'ta'           female : male   =     32.3 : 1.0\n",
        "            last_letters = 'us'             male : female =     29.4 : 1.0\n",
        "             last_letter = 'k'              male : female =     29.0 : 1.0\n",
        "            first_letter = 'k'              male : female =     29.0 : 1.0\n"
       ]
      }
     ],
     "prompt_number": 36
    },
    {
     "cell_type": "code",
     "collapsed": false,
     "input": [
      "import nltk\n",
      "names=[(name, 'male') for name in nltk.corpus.names.words(\"male.txt\")]+\\\n",
      "    [(name, 'female') for name in nltk.corpus.names.words(\"female.txt\")]\n",
      "import random\n",
      "random.shuffle(names)\n",
      "print names[:10]"
     ],
     "language": "python",
     "metadata": {},
     "outputs": [
      {
       "output_type": "stream",
       "stream": "stdout",
       "text": [
        "[('Erl', 'male'), ('Bailey', 'male'), ('Haskell', 'male'), ('Madelle', 'female'), ('Marcellina', 'female'), ('Jeffry', 'male'), ('Woody', 'male'), ('Saundra', 'female'), ('Joycelin', 'female'), ('Dorthy', 'female')]\n"
       ]
      }
     ],
     "prompt_number": 40
    },
    {
     "cell_type": "code",
     "collapsed": false,
     "input": [
      "def make_feats(name):\n",
      "    s={}\n",
      "    s[\"ll\"]=name[-1]\n",
      "    s[\"l2l\"]=name[-2:]\n",
      "    s[\"fl\"]=name[0]\n",
      "    return s\n",
      "train=nltk.classify.apply_features(make_feats,names[500:])\n",
      "# train=[(make_feats(name),label) for name, label in names[500:]]\n",
      "test=nltk.classify.apply_features(make_feats,names[:500])\n",
      "\n",
      "# for i in range(10):\n",
      "#     print train[i]\n",
      "classifier=nltk.NaiveBayesClassifier.train(train)\n",
      "for i in range(10):\n",
      "    print train[i], classifier.classify(train[i][0])\n",
      "classifier.show_most_informative_features(10)\n",
      "print nltk.classify.accuracy(classifier, test)"
     ],
     "language": "python",
     "metadata": {},
     "outputs": [
      {
       "output_type": "stream",
       "stream": "stdout",
       "text": [
        "({'ll': 'i', 'fl': 'D', 'l2l': 'ri'}, 'male') female\n",
        "({'ll': 'e', 'fl': 'Z', 'l2l': 'ie'}, 'male') female\n",
        "({'ll': 'm', 'fl': 'M', 'l2l': 'lm'}, 'male') male\n",
        "({'ll': 'n', 'fl': 'G', 'l2l': 'en'}, 'male') male\n",
        "({'ll': 'e', 'fl': 'Z', 'l2l': 'ne'}, 'male') female\n",
        "({'ll': 'o', 'fl': 'M', 'l2l': 'lo'}, 'female') male\n",
        "({'ll': 'l', 'fl': 'A', 'l2l': 'il'}, 'female') male\n",
        "({'ll': 'e', 'fl': 'P', 'l2l': 'ce'}, 'male') female\n",
        "({'ll': 'a', 'fl': 'M', 'l2l': 'ya'}, 'female') female\n",
        "({'ll': 'e', 'fl': 'P', 'l2l': 'ie'}, 'male') female\n",
        "Most Informative Features\n",
        "                     l2l = 'na'           female : male   =     98.0 : 1.0\n",
        "                     l2l = 'la'           female : male   =     75.4 : 1.0\n",
        "                     l2l = 'ia'           female : male   =     39.7 : 1.0\n",
        "                     l2l = 'sa'           female : male   =     34.8 : 1.0\n",
        "                      ll = 'a'            female : male   =     33.0 : 1.0\n",
        "                      ll = 'k'              male : female =     32.9 : 1.0\n",
        "                     l2l = 'us'             male : female =     29.4 : 1.0\n",
        "                     l2l = 'do'             male : female =     27.4 : 1.0\n",
        "                     l2l = 'ra'           female : male   =     27.0 : 1.0\n",
        "                     l2l = 'rd'             male : female =     25.9 : 1.0\n",
        "0.792"
       ]
      },
      {
       "output_type": "stream",
       "stream": "stdout",
       "text": [
        "\n"
       ]
      }
     ],
     "prompt_number": 59
    },
    {
     "cell_type": "code",
     "collapsed": false,
     "input": [
      "import nltk, random\n",
      "from nltk.corpus import names\n",
      "name_label=[(n,'m') for n in names.words('male.txt')]+[(n,'f') for n in names.words('female.txt')]\n",
      "random.shuffle(name_label)\n",
      "def get_feats(n):\n",
      "    if not isinstance(n,str):\n",
      "        print n\n",
      "        assert False\n",
      "    d={}\n",
      "    d['ll']=n[-1]\n",
      "    d['l2l']=n[-2:]\n",
      "    d['fl']=n[0]\n",
      "    return d\n",
      "tr=nltk.classify.apply_features(get_feats,name_label[1000:])\n",
      "dev_names=name_label[500:1000]\n",
      "dev=nltk.classify.apply_features(get_feats, dev_names)\n",
      "te_names=name_label[:500]\n",
      "te=nltk.classify.apply_features(get_feats,te_names)\n",
      "c=nltk.NaiveBayesClassifier.train(dev)\n",
      "print nltk.classify.accuracy(c,dev)\n",
      "i=0\n",
      "print \"{:<15}{:<40}{:<15}{:<15}\".format(\"name\",\"feats\",\"prediction\",\"correct label\")\n",
      "for name,label in dev_names:\n",
      "    feats=get_feats(name)\n",
      "    pred=c.classify(feats)\n",
      "    if pred!=label:\n",
      "        print \"{:<15}{:<40}{:<15}{:<15}\".format(name ,feats,pred,label)\n",
      "        i+=1\n",
      "        if i>=20:\n",
      "            break\n"
     ],
     "language": "python",
     "metadata": {},
     "outputs": [
      {
       "output_type": "stream",
       "stream": "stdout",
       "text": [
        "0.824\n",
        "name           feats                                   prediction     correct label  \n",
        "Winnie         {'ll': 'e', 'fl': 'W', 'l2l': 'ie'}     m              f              \n",
        "Emile          {'ll': 'e', 'fl': 'E', 'l2l': 'le'}     f              m              \n",
        "Dante          {'ll': 'e', 'fl': 'D', 'l2l': 'te'}     f              m              \n",
        "Mairead        {'ll': 'd', 'fl': 'M', 'l2l': 'ad'}     m              f              \n",
        "Brigit         {'ll': 't', 'fl': 'B', 'l2l': 'it'}     m              f              \n",
        "Opal           {'ll': 'l', 'fl': 'O', 'l2l': 'al'}     m              f              \n",
        "Maryann        {'ll': 'n', 'fl': 'M', 'l2l': 'nn'}     m              f              \n",
        "Bill           {'ll': 'l', 'fl': 'B', 'l2l': 'll'}     m              f              \n",
        "Tildy          {'ll': 'y', 'fl': 'T', 'l2l': 'dy'}     m              f              \n",
        "Jeremie        {'ll': 'e', 'fl': 'J', 'l2l': 'ie'}     f              m              \n",
        "Torre          {'ll': 'e', 'fl': 'T', 'l2l': 're'}     f              m              \n",
        "Juanita        {'ll': 'a', 'fl': 'J', 'l2l': 'ta'}     f              m              \n",
        "Elisabeth      {'ll': 'h', 'fl': 'E', 'l2l': 'th'}     m              f              \n",
        "Daryle         {'ll': 'e', 'fl': 'D', 'l2l': 'le'}     f              m              \n",
        "Granville      {'ll': 'e', 'fl': 'G', 'l2l': 'le'}     f              m              \n",
        "Sam            {'ll': 'm', 'fl': 'S', 'l2l': 'am'}     m              f              \n",
        "Hester         {'ll': 'r', 'fl': 'H', 'l2l': 'er'}     m              f              \n",
        "Marylin        {'ll': 'n', 'fl': 'M', 'l2l': 'in'}     m              f              \n",
        "Enid           {'ll': 'd', 'fl': 'E', 'l2l': 'id'}     m              f              \n",
        "Gere           {'ll': 'e', 'fl': 'G', 'l2l': 're'}     f              m              \n"
       ]
      }
     ],
     "prompt_number": 76
    },
    {
     "cell_type": "heading",
     "level": 3,
     "metadata": {},
     "source": [
      "Anki Review"
     ]
    },
    {
     "cell_type": "code",
     "collapsed": false,
     "input": [
      "A=range(3)\n",
      "B=[3,7,8]\n",
      "print A+B\n",
      "print A\n",
      "A.extend(B)\n",
      "print A"
     ],
     "language": "python",
     "metadata": {},
     "outputs": [
      {
       "output_type": "stream",
       "stream": "stdout",
       "text": [
        "[0, 1, 2, 3, 7, 8]\n",
        "[0, 1, 2]\n",
        "[0, 1, 2, 3, 7, 8]\n"
       ]
      }
     ],
     "prompt_number": 77
    },
    {
     "cell_type": "code",
     "collapsed": false,
     "input": [
      "A.insert(4,11)"
     ],
     "language": "python",
     "metadata": {},
     "outputs": [],
     "prompt_number": 78
    },
    {
     "cell_type": "code",
     "collapsed": false,
     "input": [
      "A"
     ],
     "language": "python",
     "metadata": {},
     "outputs": [
      {
       "metadata": {},
       "output_type": "pyout",
       "prompt_number": 79,
       "text": [
        "[0, 1, 2, 3, 11, 7, 8]"
       ]
      }
     ],
     "prompt_number": 79
    },
    {
     "cell_type": "code",
     "collapsed": false,
     "input": [
      "A[2:2]=[6]"
     ],
     "language": "python",
     "metadata": {},
     "outputs": [],
     "prompt_number": 80
    },
    {
     "cell_type": "code",
     "collapsed": false,
     "input": [
      "A"
     ],
     "language": "python",
     "metadata": {},
     "outputs": [
      {
       "metadata": {},
       "output_type": "pyout",
       "prompt_number": 81,
       "text": [
        "[0, 1, 6, 2, 3, 11, 7, 8]"
       ]
      }
     ],
     "prompt_number": 81
    },
    {
     "cell_type": "code",
     "collapsed": false,
     "input": [
      "A[2,5,7]=-1"
     ],
     "language": "python",
     "metadata": {},
     "outputs": [
      {
       "ename": "TypeError",
       "evalue": "list indices must be integers, not tuple",
       "output_type": "pyerr",
       "traceback": [
        "\u001b[1;31m---------------------------------------------------------------------------\u001b[0m\n\u001b[1;31mTypeError\u001b[0m                                 Traceback (most recent call last)",
        "\u001b[1;32m<ipython-input-82-558c939eb50b>\u001b[0m in \u001b[0;36m<module>\u001b[1;34m()\u001b[0m\n\u001b[1;32m----> 1\u001b[1;33m \u001b[0mA\u001b[0m\u001b[1;33m[\u001b[0m\u001b[1;36m2\u001b[0m\u001b[1;33m,\u001b[0m\u001b[1;36m5\u001b[0m\u001b[1;33m,\u001b[0m\u001b[1;36m7\u001b[0m\u001b[1;33m]\u001b[0m\u001b[1;33m=\u001b[0m\u001b[1;33m-\u001b[0m\u001b[1;36m1\u001b[0m\u001b[1;33m\u001b[0m\u001b[0m\n\u001b[0m",
        "\u001b[1;31mTypeError\u001b[0m: list indices must be integers, not tuple"
       ]
      }
     ],
     "prompt_number": 82
    },
    {
     "cell_type": "code",
     "collapsed": false,
     "input": [
      "import numpy as np\n",
      "A=np.arange(4)\n",
      "B=np.arange(4,14,3)\n",
      "print A,B"
     ],
     "language": "python",
     "metadata": {},
     "outputs": [
      {
       "output_type": "stream",
       "stream": "stdout",
       "text": [
        "[0 1 2 3] [ 4  7 10 13]\n"
       ]
      }
     ],
     "prompt_number": 85
    },
    {
     "cell_type": "code",
     "collapsed": false,
     "input": [
      "print np.r_[A,B]\n",
      "print np.c_[A,B]"
     ],
     "language": "python",
     "metadata": {},
     "outputs": [
      {
       "output_type": "stream",
       "stream": "stdout",
       "text": [
        "[ 0  1  2  3  4  7 10 13]\n",
        "[[ 0  4]\n",
        " [ 1  7]\n",
        " [ 2 10]\n",
        " [ 3 13]]\n"
       ]
      }
     ],
     "prompt_number": 89
    },
    {
     "cell_type": "code",
     "collapsed": false,
     "input": [
      "n=((x,y) for x in xrange(2) for y in xrange(4,6))"
     ],
     "language": "python",
     "metadata": {},
     "outputs": [],
     "prompt_number": 90
    },
    {
     "cell_type": "code",
     "collapsed": false,
     "input": [
      "for i in n:\n",
      "    print i"
     ],
     "language": "python",
     "metadata": {},
     "outputs": [
      {
       "output_type": "stream",
       "stream": "stdout",
       "text": [
        "(0, 4)\n",
        "(0, 5)\n",
        "(1, 4)\n",
        "(1, 5)\n"
       ]
      }
     ],
     "prompt_number": 91
    },
    {
     "cell_type": "code",
     "collapsed": false,
     "input": [
      "import itertools as it\n"
     ],
     "language": "python",
     "metadata": {},
     "outputs": [],
     "prompt_number": 96
    },
    {
     "cell_type": "code",
     "collapsed": false,
     "input": [
      "isl=it.islice(n,2,3)\n",
      "print isl\n",
      "# print len(isl)\n",
      "for i in isl:\n",
      "    print i"
     ],
     "language": "python",
     "metadata": {},
     "outputs": [
      {
       "output_type": "stream",
       "stream": "stdout",
       "text": [
        "<itertools.islice object at 0x00000000127E5188>\n"
       ]
      }
     ],
     "prompt_number": 99
    },
    {
     "cell_type": "code",
     "collapsed": false,
     "input": [
      "for i in it.islice(range(10),3,7):\n",
      "    print i"
     ],
     "language": "python",
     "metadata": {},
     "outputs": [
      {
       "output_type": "stream",
       "stream": "stdout",
       "text": [
        "3\n",
        "4\n",
        "5\n",
        "6\n"
       ]
      }
     ],
     "prompt_number": 100
    },
    {
     "cell_type": "code",
     "collapsed": false,
     "input": [
      "isl=it.islice(range(10),3,7)\n",
      "for i in isl:\n",
      "    print i"
     ],
     "language": "python",
     "metadata": {},
     "outputs": [
      {
       "output_type": "stream",
       "stream": "stdout",
       "text": [
        "3\n",
        "4\n",
        "5\n",
        "6\n"
       ]
      }
     ],
     "prompt_number": 101
    },
    {
     "cell_type": "code",
     "collapsed": false,
     "input": [
      "isinstance(5.5,int)"
     ],
     "language": "python",
     "metadata": {},
     "outputs": [
      {
       "metadata": {},
       "output_type": "pyout",
       "prompt_number": 103,
       "text": [
        "False"
       ]
      }
     ],
     "prompt_number": 103
    },
    {
     "cell_type": "code",
     "collapsed": false,
     "input": [
      "d={i:i**2 for i in range(10)}\n",
      "print d"
     ],
     "language": "python",
     "metadata": {},
     "outputs": [
      {
       "output_type": "stream",
       "stream": "stdout",
       "text": [
        "{0: 0, 1: 1, 2: 4, 3: 9, 4: 16, 5: 25, 6: 36, 7: 49, 8: 64, 9: 81}\n"
       ]
      }
     ],
     "prompt_number": 108
    },
    {
     "cell_type": "code",
     "collapsed": false,
     "input": [
      "vec = [[1,2,3], [4,5,6], [7,8,9]]\n",
      "vf=[i for j in vec for i in j]\n",
      "print vf"
     ],
     "language": "python",
     "metadata": {},
     "outputs": [
      {
       "output_type": "stream",
       "stream": "stdout",
       "text": [
        "[1, 2, 3, 4, 5, 6, 7, 8, 9]\n"
       ]
      }
     ],
     "prompt_number": 111
    },
    {
     "cell_type": "code",
     "collapsed": false,
     "input": [
      "\"{:b}\".format(10)"
     ],
     "language": "python",
     "metadata": {},
     "outputs": [
      {
       "metadata": {},
       "output_type": "pyout",
       "prompt_number": 113,
       "text": [
        "'1010'"
       ]
      }
     ],
     "prompt_number": 113
    },
    {
     "cell_type": "code",
     "collapsed": false,
     "input": [
      "[w for w in wsj if re.search(\"^[a-z]{5,}-[a-z]{2,3}-[a-z]{,6}$\",w)]\n",
      "git branch -v\n",
      "git log\n",
      "git log -p\n"
     ],
     "language": "python",
     "metadata": {},
     "outputs": []
    },
    {
     "cell_type": "heading",
     "level": 5,
     "metadata": {},
     "source": [
      "Using NLTK classifiers"
     ]
    },
    {
     "cell_type": "code",
     "collapsed": false,
     "input": [
      "import nltk, random\n",
      "from nltk.corpus import names\n",
      "data = [(n,\"male\") for n in names.words('male.txt')]+\\\n",
      "    [(n,\"female\") for n in names.words('female.txt')]\n",
      "random.shuffle(data)\n",
      "def gender_feats(name):\n",
      "    return {\"ll\":name[-1]}\n",
      "feats=nltk.classify.apply_features(gender_features,data)\n",
      "train=feats[500:]\n",
      "test=feats[:500]\n",
      "classifier = nltk.NaiveBayesClassifier.train(train)\n",
      "print nltk.classify.accuracy(classifier, test)"
     ],
     "language": "python",
     "metadata": {},
     "outputs": [
      {
       "output_type": "stream",
       "stream": "stdout",
       "text": [
        "0.756\n"
       ]
      }
     ],
     "prompt_number": 117
    },
    {
     "cell_type": "code",
     "collapsed": false,
     "input": [
      "import nltk, random\n",
      "from nltk.corpus import names\n",
      "data = [(n,\"male\") for n in names.words('male.txt')]+\\\n",
      "    [(n,\"female\") for n in names.words('female.txt')]\n",
      "random.shuffle(data)\n",
      "def gender_feats(name):\n",
      "    return {\"ll\":name[-1]}\n",
      "feats=nltk.classify.apply_features(gender_features,data)\n",
      "train=feats[500:]\n",
      "test=feats[:500]\n",
      "classifier = nltk.NaiveBayesClassifier(train)\n",
      "print nltk.classify.accuracy(classifier, test)"
     ],
     "language": "python",
     "metadata": {},
     "outputs": [
      {
       "ename": "TypeError",
       "evalue": "__init__() takes exactly 3 arguments (2 given)",
       "output_type": "pyerr",
       "traceback": [
        "\u001b[1;31m---------------------------------------------------------------------------\u001b[0m\n\u001b[1;31mTypeError\u001b[0m                                 Traceback (most recent call last)",
        "\u001b[1;32m<ipython-input-118-95f0d0a1b6c3>\u001b[0m in \u001b[0;36m<module>\u001b[1;34m()\u001b[0m\n\u001b[0;32m      8\u001b[0m \u001b[0mtrain\u001b[0m\u001b[1;33m=\u001b[0m\u001b[0mfeats\u001b[0m\u001b[1;33m[\u001b[0m\u001b[1;36m500\u001b[0m\u001b[1;33m:\u001b[0m\u001b[1;33m]\u001b[0m\u001b[1;33m\u001b[0m\u001b[0m\n\u001b[0;32m      9\u001b[0m \u001b[0mtest\u001b[0m\u001b[1;33m=\u001b[0m\u001b[0mfeats\u001b[0m\u001b[1;33m[\u001b[0m\u001b[1;33m:\u001b[0m\u001b[1;36m500\u001b[0m\u001b[1;33m]\u001b[0m\u001b[1;33m\u001b[0m\u001b[0m\n\u001b[1;32m---> 10\u001b[1;33m \u001b[0mclassifier\u001b[0m \u001b[1;33m=\u001b[0m \u001b[0mnltk\u001b[0m\u001b[1;33m.\u001b[0m\u001b[0mNaiveBayesClassifier\u001b[0m\u001b[1;33m(\u001b[0m\u001b[0mtrain\u001b[0m\u001b[1;33m)\u001b[0m\u001b[1;33m\u001b[0m\u001b[0m\n\u001b[0m\u001b[0;32m     11\u001b[0m \u001b[1;32mprint\u001b[0m \u001b[0mnltk\u001b[0m\u001b[1;33m.\u001b[0m\u001b[0mclassify\u001b[0m\u001b[1;33m.\u001b[0m\u001b[0maccuracy\u001b[0m\u001b[1;33m(\u001b[0m\u001b[0mclassifier\u001b[0m\u001b[1;33m,\u001b[0m \u001b[0mtest\u001b[0m\u001b[1;33m)\u001b[0m\u001b[1;33m\u001b[0m\u001b[0m\n",
        "\u001b[1;31mTypeError\u001b[0m: __init__() takes exactly 3 arguments (2 given)"
       ]
      }
     ],
     "prompt_number": 118
    },
    {
     "cell_type": "code",
     "collapsed": false,
     "input": [
      "from nltk import chunk\n",
      "tagged_text = \"\"\"\n",
      "The/DT market/NN for/IN system-management/NN software/NN for/IN\n",
      "Digital/NNP 's/POS hardware/NN is/VBZ fragmented/JJ enough/RB\n",
      "that/IN a/DT giant/NN such/JJ as/IN Computer/NNP Associates/NNPS\n",
      "should/MD do/VB well/RB there/RB ./.\n",
      "\"\"\"\n",
      "input = chunk.tagstr2tree(tagged_text)\n",
      "print input\n",
      "cp = chunk.RegexpParser(\"NP: {<DT><NN>}\")\n",
      "print cp.parse(input)"
     ],
     "language": "python",
     "metadata": {},
     "outputs": [
      {
       "output_type": "stream",
       "stream": "stdout",
       "text": [
        "(S\n",
        "  The/DT\n",
        "  market/NN\n",
        "  for/IN\n",
        "  system-management/NN\n",
        "  software/NN\n",
        "  for/IN\n",
        "  Digital/NNP\n",
        "  's/POS\n",
        "  hardware/NN\n",
        "  is/VBZ\n",
        "  fragmented/JJ\n",
        "  enough/RB\n",
        "  that/IN\n",
        "  a/DT\n",
        "  giant/NN\n",
        "  such/JJ\n",
        "  as/IN\n",
        "  Computer/NNP\n",
        "  Associates/NNPS\n",
        "  should/MD\n",
        "  do/VB\n",
        "  well/RB\n",
        "  there/RB\n",
        "  ./.)\n",
        "(S\n",
        "  (NP The/DT market/NN)\n",
        "  for/IN\n",
        "  system-management/NN\n",
        "  software/NN\n",
        "  for/IN\n",
        "  Digital/NNP\n",
        "  's/POS\n",
        "  hardware/NN\n",
        "  is/VBZ\n",
        "  fragmented/JJ\n",
        "  enough/RB\n",
        "  that/IN\n",
        "  (NP a/DT giant/NN)\n",
        "  such/JJ\n",
        "  as/IN\n",
        "  Computer/NNP\n",
        "  Associates/NNPS\n",
        "  should/MD\n",
        "  do/VB\n",
        "  well/RB\n",
        "  there/RB\n",
        "  ./.)\n"
       ]
      }
     ],
     "prompt_number": 119
    },
    {
     "cell_type": "code",
     "collapsed": false,
     "input": [
      "from nltk.corpus import conll2000\n",
      "train = conll2000.chunked_sents('train.txt', chunk_types=('NP',))\n",
      "from nltk import chunk\n",
      "from nltk.corpus import conll2000\n",
      "cp = chunk.RegexpParser(\"NP: {(<NN><IN>)?<DT><NN>}\")\n",
      "print chunk.accuracy(cp, conll2000.chunked_sents('test.txt', chunk_types=('NP',)))\n",
      "print train[0]\n",
      "print cp.parse(train[0])"
     ],
     "language": "python",
     "metadata": {},
     "outputs": [
      {
       "output_type": "stream",
       "stream": "stdout",
       "text": [
        "0.505899487093\n",
        "(S\n",
        "  (NP Confidence/NN)\n",
        "  in/IN\n",
        "  (NP the/DT pound/NN)\n",
        "  is/VBZ\n",
        "  widely/RB\n",
        "  expected/VBN\n",
        "  to/TO\n",
        "  take/VB\n",
        "  (NP another/DT sharp/JJ dive/NN)\n",
        "  if/IN\n",
        "  (NP trade/NN figures/NNS)\n",
        "  for/IN\n",
        "  (NP September/NNP)\n",
        "  ,/,\n",
        "  due/JJ\n",
        "  for/IN\n",
        "  (NP release/NN)\n",
        "  (NP tomorrow/NN)\n",
        "  ,/,\n",
        "  fail/VB\n",
        "  to/TO\n",
        "  show/VB\n",
        "  (NP a/DT substantial/JJ improvement/NN)\n",
        "  from/IN\n",
        "  (NP July/NNP and/CC August/NNP)\n",
        "  (NP 's/POS near-record/JJ deficits/NNS)\n",
        "  ./.)\n",
        "(S\n",
        "  (NP Confidence/NN)\n",
        "  in/IN\n",
        "  (NP the/DT pound/NN)\n",
        "  is/VBZ\n",
        "  widely/RB\n",
        "  expected/VBN\n",
        "  to/TO\n",
        "  take/VB\n",
        "  (NP another/DT sharp/JJ dive/NN)\n",
        "  if/IN\n",
        "  (NP trade/NN figures/NNS)\n",
        "  for/IN\n",
        "  (NP September/NNP)\n",
        "  ,/,\n",
        "  due/JJ\n",
        "  for/IN\n",
        "  (NP release/NN)\n",
        "  (NP tomorrow/NN)\n",
        "  ,/,\n",
        "  fail/VB\n",
        "  to/TO\n",
        "  show/VB\n",
        "  (NP a/DT substantial/JJ improvement/NN)\n",
        "  from/IN\n",
        "  (NP July/NNP and/CC August/NNP)\n",
        "  (NP 's/POS near-record/JJ deficits/NNS)\n",
        "  ./.)\n"
       ]
      }
     ],
     "prompt_number": 123
    },
    {
     "cell_type": "heading",
     "level": 3,
     "metadata": {},
     "source": [
      "Document Classification"
     ]
    },
    {
     "cell_type": "code",
     "collapsed": false,
     "input": [
      "from nltk.corpus import movie_reviews\n",
      "#Data\n",
      "documents = [(list(movie_reviews.words(fileid)), category)\n",
      "            for category in movie_reviews.categories()\n",
      "            for fileid in movie_reviews.fileids(category)]\n",
      "random.shuffle(documents)"
     ],
     "language": "python",
     "metadata": {},
     "outputs": [],
     "prompt_number": 129
    },
    {
     "cell_type": "code",
     "collapsed": false,
     "input": [
      "#Get most-frequent words\n",
      "fd=nltk.FreqDist(w.lower for w in movie_reviews.words())\n",
      "print fd.keys()[:20]\n",
      "freq_words=fd[:2000]\n",
      "def get_feats(list_of_words):\n",
      "    words=set(list_of_words)\n",
      "    feats={}\n",
      "    for word in freq_words:\n",
      "        feats[word]=(word in words)\n",
      "    return feats\n",
      "print 1\n",
      "train=nltk.classify.apply_features(get_feats,documents[100:])\n",
      "# print 2\n",
      "# test=nltk.classify.apply_features(get_feats,documents[:100])\n",
      "# print 3\n",
      "# classifier=nltk.NaiveBayesClassifier.train(train)\n",
      "# print nltk.classify.accuracy(classifier, test)"
     ],
     "language": "python",
     "metadata": {},
     "outputs": [
      {
       "ename": "KeyboardInterrupt",
       "evalue": "",
       "output_type": "pyerr",
       "traceback": [
        "\u001b[1;31m---------------------------------------------------------------------------\u001b[0m\n\u001b[1;31mKeyboardInterrupt\u001b[0m                         Traceback (most recent call last)",
        "\u001b[1;32m<ipython-input-133-e31dfac785b0>\u001b[0m in \u001b[0;36m<module>\u001b[1;34m()\u001b[0m\n\u001b[0;32m      1\u001b[0m \u001b[1;31m#Get most-frequent words\u001b[0m\u001b[1;33m\u001b[0m\u001b[1;33m\u001b[0m\u001b[0m\n\u001b[1;32m----> 2\u001b[1;33m \u001b[0mfd\u001b[0m\u001b[1;33m=\u001b[0m\u001b[0mnltk\u001b[0m\u001b[1;33m.\u001b[0m\u001b[0mFreqDist\u001b[0m\u001b[1;33m(\u001b[0m\u001b[0mw\u001b[0m\u001b[1;33m.\u001b[0m\u001b[0mlower\u001b[0m \u001b[1;32mfor\u001b[0m \u001b[0mw\u001b[0m \u001b[1;32min\u001b[0m \u001b[0mmovie_reviews\u001b[0m\u001b[1;33m.\u001b[0m\u001b[0mwords\u001b[0m\u001b[1;33m(\u001b[0m\u001b[1;33m)\u001b[0m\u001b[1;33m)\u001b[0m\u001b[1;33m\u001b[0m\u001b[0m\n\u001b[0m\u001b[0;32m      3\u001b[0m \u001b[1;32mprint\u001b[0m \u001b[0mfd\u001b[0m\u001b[1;33m.\u001b[0m\u001b[0mkeys\u001b[0m\u001b[1;33m(\u001b[0m\u001b[1;33m)\u001b[0m\u001b[1;33m[\u001b[0m\u001b[1;33m:\u001b[0m\u001b[1;36m20\u001b[0m\u001b[1;33m]\u001b[0m\u001b[1;33m\u001b[0m\u001b[0m\n\u001b[0;32m      4\u001b[0m \u001b[0mfreq_words\u001b[0m\u001b[1;33m=\u001b[0m\u001b[0mfd\u001b[0m\u001b[1;33m[\u001b[0m\u001b[1;33m:\u001b[0m\u001b[1;36m2000\u001b[0m\u001b[1;33m]\u001b[0m\u001b[1;33m\u001b[0m\u001b[0m\n\u001b[0;32m      5\u001b[0m \u001b[1;32mdef\u001b[0m \u001b[0mget_feats\u001b[0m\u001b[1;33m(\u001b[0m\u001b[0mlist_of_words\u001b[0m\u001b[1;33m)\u001b[0m\u001b[1;33m:\u001b[0m\u001b[1;33m\u001b[0m\u001b[0m\n",
        "\u001b[1;32mC:\\Users\\Willem\\Anaconda\\lib\\site-packages\\nltk\\probability.pyc\u001b[0m in \u001b[0;36m__init__\u001b[1;34m(self, samples)\u001b[0m\n\u001b[0;32m    103\u001b[0m         \u001b[0mself\u001b[0m\u001b[1;33m.\u001b[0m\u001b[0m_reset_caches\u001b[0m\u001b[1;33m(\u001b[0m\u001b[1;33m)\u001b[0m\u001b[1;33m\u001b[0m\u001b[0m\n\u001b[0;32m    104\u001b[0m         \u001b[1;32mif\u001b[0m \u001b[0msamples\u001b[0m\u001b[1;33m:\u001b[0m\u001b[1;33m\u001b[0m\u001b[0m\n\u001b[1;32m--> 105\u001b[1;33m             \u001b[0mself\u001b[0m\u001b[1;33m.\u001b[0m\u001b[0mupdate\u001b[0m\u001b[1;33m(\u001b[0m\u001b[0msamples\u001b[0m\u001b[1;33m)\u001b[0m\u001b[1;33m\u001b[0m\u001b[0m\n\u001b[0m\u001b[0;32m    106\u001b[0m \u001b[1;33m\u001b[0m\u001b[0m\n\u001b[0;32m    107\u001b[0m     \u001b[1;32mdef\u001b[0m \u001b[0minc\u001b[0m\u001b[1;33m(\u001b[0m\u001b[0mself\u001b[0m\u001b[1;33m,\u001b[0m \u001b[0msample\u001b[0m\u001b[1;33m,\u001b[0m \u001b[0mcount\u001b[0m\u001b[1;33m=\u001b[0m\u001b[1;36m1\u001b[0m\u001b[1;33m)\u001b[0m\u001b[1;33m:\u001b[0m\u001b[1;33m\u001b[0m\u001b[0m\n",
        "\u001b[1;32mC:\\Users\\Willem\\Anaconda\\lib\\site-packages\\nltk\\probability.pyc\u001b[0m in \u001b[0;36mupdate\u001b[1;34m(self, samples)\u001b[0m\n\u001b[0;32m    432\u001b[0m         \u001b[1;32mexcept\u001b[0m\u001b[1;33m:\u001b[0m\u001b[1;33m\u001b[0m\u001b[0m\n\u001b[0;32m    433\u001b[0m             \u001b[0msample_iter\u001b[0m \u001b[1;33m=\u001b[0m \u001b[0mimap\u001b[0m\u001b[1;33m(\u001b[0m\u001b[1;32mlambda\u001b[0m \u001b[0mx\u001b[0m\u001b[1;33m:\u001b[0m \u001b[1;33m(\u001b[0m\u001b[0mx\u001b[0m\u001b[1;33m,\u001b[0m\u001b[1;36m1\u001b[0m\u001b[1;33m)\u001b[0m\u001b[1;33m,\u001b[0m \u001b[0msamples\u001b[0m\u001b[1;33m)\u001b[0m\u001b[1;33m\u001b[0m\u001b[0m\n\u001b[1;32m--> 434\u001b[1;33m         \u001b[1;32mfor\u001b[0m \u001b[0msample\u001b[0m\u001b[1;33m,\u001b[0m \u001b[0mcount\u001b[0m \u001b[1;32min\u001b[0m \u001b[0msample_iter\u001b[0m\u001b[1;33m:\u001b[0m\u001b[1;33m\u001b[0m\u001b[0m\n\u001b[0m\u001b[0;32m    435\u001b[0m             \u001b[0mself\u001b[0m\u001b[1;33m.\u001b[0m\u001b[0minc\u001b[0m\u001b[1;33m(\u001b[0m\u001b[0msample\u001b[0m\u001b[1;33m,\u001b[0m \u001b[0mcount\u001b[0m\u001b[1;33m=\u001b[0m\u001b[0mcount\u001b[0m\u001b[1;33m)\u001b[0m\u001b[1;33m\u001b[0m\u001b[0m\n\u001b[0;32m    436\u001b[0m \u001b[1;33m\u001b[0m\u001b[0m\n",
        "\u001b[1;32mC:\\Users\\Willem\\Anaconda\\lib\\site-packages\\nltk\\probability.pyc\u001b[0m in \u001b[0;36m<lambda>\u001b[1;34m(x)\u001b[0m\n\u001b[0;32m    431\u001b[0m             \u001b[0msample_iter\u001b[0m \u001b[1;33m=\u001b[0m \u001b[0msamples\u001b[0m\u001b[1;33m.\u001b[0m\u001b[0miteritems\u001b[0m\u001b[1;33m(\u001b[0m\u001b[1;33m)\u001b[0m\u001b[1;33m\u001b[0m\u001b[0m\n\u001b[0;32m    432\u001b[0m         \u001b[1;32mexcept\u001b[0m\u001b[1;33m:\u001b[0m\u001b[1;33m\u001b[0m\u001b[0m\n\u001b[1;32m--> 433\u001b[1;33m             \u001b[0msample_iter\u001b[0m \u001b[1;33m=\u001b[0m \u001b[0mimap\u001b[0m\u001b[1;33m(\u001b[0m\u001b[1;32mlambda\u001b[0m \u001b[0mx\u001b[0m\u001b[1;33m:\u001b[0m \u001b[1;33m(\u001b[0m\u001b[0mx\u001b[0m\u001b[1;33m,\u001b[0m\u001b[1;36m1\u001b[0m\u001b[1;33m)\u001b[0m\u001b[1;33m,\u001b[0m \u001b[0msamples\u001b[0m\u001b[1;33m)\u001b[0m\u001b[1;33m\u001b[0m\u001b[0m\n\u001b[0m\u001b[0;32m    434\u001b[0m         \u001b[1;32mfor\u001b[0m \u001b[0msample\u001b[0m\u001b[1;33m,\u001b[0m \u001b[0mcount\u001b[0m \u001b[1;32min\u001b[0m \u001b[0msample_iter\u001b[0m\u001b[1;33m:\u001b[0m\u001b[1;33m\u001b[0m\u001b[0m\n\u001b[0;32m    435\u001b[0m             \u001b[0mself\u001b[0m\u001b[1;33m.\u001b[0m\u001b[0minc\u001b[0m\u001b[1;33m(\u001b[0m\u001b[0msample\u001b[0m\u001b[1;33m,\u001b[0m \u001b[0mcount\u001b[0m\u001b[1;33m=\u001b[0m\u001b[0mcount\u001b[0m\u001b[1;33m)\u001b[0m\u001b[1;33m\u001b[0m\u001b[0m\n",
        "\u001b[1;31mKeyboardInterrupt\u001b[0m: "
       ]
      }
     ],
     "prompt_number": 133
    },
    {
     "cell_type": "code",
     "collapsed": false,
     "input": [
      "sentence = [(\"the\", \"DT\"), (\"little\", \"JJ\"), (\"yellow\", \"JJ\"), \n",
      "... (\"dog\", \"NN\"), (\"barked\", \"VBD\"), (\"at\", \"IN\"), (\"the\", \"DT\"), (\"cat\", \"NN\")]\n",
      "print sentence"
     ],
     "language": "python",
     "metadata": {},
     "outputs": [
      {
       "output_type": "stream",
       "stream": "stdout",
       "text": [
        "[('the', 'DT'), ('little', 'JJ'), ('yellow', 'JJ'), ('dog', 'NN'), ('barked', 'VBD'), ('at', 'IN'), ('the', 'DT'), ('cat', 'NN')]\n"
       ]
      }
     ],
     "prompt_number": 134
    },
    {
     "cell_type": "code",
     "collapsed": false,
     "input": [
      "grammar = \"NP: {<DT>?<JJ>*<NN>}\"\n",
      "cp = nltk.RegexpParser(grammar)\n",
      "p=cp.parse(sentence)\n",
      "print p"
     ],
     "language": "python",
     "metadata": {},
     "outputs": [
      {
       "output_type": "stream",
       "stream": "stdout",
       "text": [
        "(S\n",
        "  (NP the/DT little/JJ yellow/JJ dog/NN)\n",
        "  barked/VBD\n",
        "  at/IN\n",
        "  (NP the/DT cat/NN))\n"
       ]
      }
     ],
     "prompt_number": 135
    },
    {
     "cell_type": "code",
     "collapsed": false,
     "input": [
      "grammar = \"NP:{<DT>?<JJ>*<NN>}\"\n",
      "parser=nltk.RegexpParser(grammar)\n",
      "p=parser.parse(sentence)\n",
      "print p\n",
      "p.draw()"
     ],
     "language": "python",
     "metadata": {},
     "outputs": [
      {
       "output_type": "stream",
       "stream": "stdout",
       "text": [
        "(S\n",
        "  (NP the/DT little/JJ yellow/JJ dog/NN)\n",
        "  barked/VBD\n",
        "  at/IN\n",
        "  (NP the/DT cat/NN))\n"
       ]
      }
     ],
     "prompt_number": "*"
    },
    {
     "cell_type": "code",
     "collapsed": false,
     "input": [
      "nltk.app.chunkparser()"
     ],
     "language": "python",
     "metadata": {},
     "outputs": [],
     "prompt_number": "*"
    },
    {
     "cell_type": "code",
     "collapsed": false,
     "input": [],
     "language": "python",
     "metadata": {},
     "outputs": []
    }
   ],
   "metadata": {}
  }
 ]
}