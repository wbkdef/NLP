{
 "metadata": {
  "name": ""
 },
 "nbformat": 3,
 "nbformat_minor": 0,
 "worksheets": [
  {
   "cells": [
    {
     "cell_type": "code",
     "collapsed": false,
     "input": [
      "import nltk\n",
      "from nltk.corpus import ppattach\n",
      "print ppattach.attachments('training')[0]\n",
      "print ppattach.attachments('devset')[0]\n",
      "print ppattach.attachments('test')[0]"
     ],
     "language": "python",
     "metadata": {},
     "outputs": [
      {
       "output_type": "stream",
       "stream": "stdout",
       "text": [
        "PPAttachment(sent='0', verb='join', noun1='board', prep='as', noun2='director', attachment='V')\n",
        "PPAttachment(sent='40000', verb='set', noun1='stage', prep='for', noun2='increase', attachment='N')"
       ]
      },
      {
       "output_type": "stream",
       "stream": "stdout",
       "text": [
        "\n",
        "PPAttachment(sent='48000', verb='prepare', noun1='dinner', prep='for', noun2='family', attachment='V')"
       ]
      },
      {
       "output_type": "stream",
       "stream": "stdout",
       "text": [
        "\n"
       ]
      }
     ],
     "prompt_number": 2
    },
    {
     "cell_type": "code",
     "collapsed": false,
     "input": [
      "\n",
      "def get_feats(ppa):\n",
      "    feats={('V'+ppa.verb,\\\n",
      "         'N1'+ppa.noun1,\\\n",
      "         'P'+ppa.prep,\\\n",
      "         'N2'+ppa.noun2)}\n",
      "    for i in range(4):\n",
      "        new_feats=set()\n",
      "        for feat in feats:\n",
      "            lf=list(feat)\n",
      "            lf[i]=\"\"\n",
      "            new_feats.add(tuple(lf))\n",
      "        feats|=new_feats\n",
      "    return feats\n",
      "def get_list_of_feats_lables(data):\n",
      "#     data_tuples=[(ppa,ppa.attachment) for ppa in data]\n",
      "#     feat_lable_tuples=nltk.classify.apply_features(get_feats,data)\n",
      "    feat_lable_tuples=[(get_feats(ppa),ppa.attachment) for ppa in data]\n",
      "    return feat_lable_tuples\n",
      "train=ppattach.attachments('training')\n",
      "train_feats_labels=get_list_of_feats_lables(train)\n",
      "dev=ppattach.attachments('devset')\n",
      "dev_feats_labels=get_list_of_feats_lables(dev)\n",
      "\n",
      "# classifier=nltk.NaiveBayesClassifier.train(train_feats_labels)\n",
      "print train[0]\n",
      "print train_feats_labels[0]\n",
      "# nltk.classify.accuracy(classifier,dev_feats_labels)\n",
      "\n",
      "         "
     ],
     "language": "python",
     "metadata": {},
     "outputs": [
      {
       "ename": "TypeError",
       "evalue": "'LazyMap' object is not callable",
       "output_type": "pyerr",
       "traceback": [
        "\u001b[1;31m---------------------------------------------------------------------------\u001b[0m\n\u001b[1;31mTypeError\u001b[0m                                 Traceback (most recent call last)",
        "\u001b[1;32m<ipython-input-16-bfbb1479ffa6>\u001b[0m in \u001b[0;36m<module>\u001b[1;34m()\u001b[0m\n\u001b[0;32m     21\u001b[0m \u001b[1;31m# classifier=nltk.NaiveBayesClassifier.train(train_feats_labels)\u001b[0m\u001b[1;33m\u001b[0m\u001b[1;33m\u001b[0m\u001b[0m\n\u001b[0;32m     22\u001b[0m \u001b[1;32mprint\u001b[0m \u001b[0mtrain\u001b[0m\u001b[1;33m[\u001b[0m\u001b[1;36m0\u001b[0m\u001b[1;33m]\u001b[0m\u001b[1;33m\u001b[0m\u001b[0m\n\u001b[1;32m---> 23\u001b[1;33m \u001b[1;32mprint\u001b[0m \u001b[0mtrain_feats_labels\u001b[0m\u001b[1;33m(\u001b[0m\u001b[0mtrain\u001b[0m\u001b[1;33m[\u001b[0m\u001b[1;36m0\u001b[0m\u001b[1;33m]\u001b[0m\u001b[1;33m)\u001b[0m\u001b[1;33m\u001b[0m\u001b[0m\n\u001b[0m\u001b[0;32m     24\u001b[0m \u001b[1;31m# nltk.classify.accuracy(classifier,dev_feats_labels)\u001b[0m\u001b[1;33m\u001b[0m\u001b[1;33m\u001b[0m\u001b[0m\n\u001b[0;32m     25\u001b[0m \u001b[1;33m\u001b[0m\u001b[0m\n",
        "\u001b[1;31mTypeError\u001b[0m: 'LazyMap' object is not callable"
       ]
      },
      {
       "output_type": "stream",
       "stream": "stdout",
       "text": [
        "PPAttachment(sent='0', verb='join', noun1='board', prep='as', noun2='director', attachment='V')\n"
       ]
      }
     ],
     "prompt_number": 16
    },
    {
     "cell_type": "code",
     "collapsed": false,
     "input": [
      "tuple(range(3))"
     ],
     "language": "python",
     "metadata": {},
     "outputs": [
      {
       "metadata": {},
       "output_type": "pyout",
       "prompt_number": 4,
       "text": [
        "(0, 1, 2)"
       ]
      }
     ],
     "prompt_number": 4
    },
    {
     "cell_type": "code",
     "collapsed": false,
     "input": [],
     "language": "python",
     "metadata": {},
     "outputs": []
    }
   ],
   "metadata": {}
  }
 ]
}