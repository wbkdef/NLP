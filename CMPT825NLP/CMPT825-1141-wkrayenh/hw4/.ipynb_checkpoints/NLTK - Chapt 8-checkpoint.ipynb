{
 "metadata": {
  "name": ""
 },
 "nbformat": 3,
 "nbformat_minor": 0,
 "worksheets": [
  {
   "cells": [
    {
     "cell_type": "code",
     "collapsed": false,
     "input": [
      "import nltk"
     ],
     "language": "python",
     "metadata": {},
     "outputs": [],
     "prompt_number": 1
    },
    {
     "cell_type": "code",
     "collapsed": false,
     "input": [
      "grammar=nltk.parse_cfg(\"\"\"\n",
      "S -> NP VP\n",
      "VP -> V NP | V NP PP\n",
      "PP -> P NP\n",
      "NP -> N | Det NP | Det JJ NP\n",
      "V -> \"saw\" | \"ate\" | \"walked\"\n",
      "NP -> \"John\" | \"Mary\" | \"Bob\" | Det N | Det N PP\n",
      "Det -> \"a\" | \"an\" | \"the\" | \"my\"\n",
      "N -> \"man\" | \"dog\" | \"cat\" | \"telescope\" | \"park\"\n",
      "P -> \"in\" | \"on\" | \"by\" | \"with\"\n",
      "\"\"\")\n",
      "sent=\"Mary saw Bob\".split()\n",
      "rd_parser=nltk.RecursiveDescentParser(grammar)\n",
      "for tree in rd_parser.nbest_parse(sent):\n",
      "    print tree\n",
      "    "
     ],
     "language": "python",
     "metadata": {},
     "outputs": [
      {
       "output_type": "stream",
       "stream": "stdout",
       "text": [
        "(S (NP Mary) (VP (V saw) (NP Bob)))\n"
       ]
      }
     ],
     "prompt_number": 4
    },
    {
     "cell_type": "code",
     "collapsed": false,
     "input": [
      "grammar=nltk.parse_cfg(\"\"\"\n",
      "S -> NP CC S\n",
      "S -> NP VP\n",
      "VP -> V NP | V NP PP\n",
      "PP -> P NP\n",
      "NP -> N | Det NP | Det JJ NP\n",
      "JJ -> \"100m\"\n",
      "N -> \"jodie\" | \"freestyle\" | \"age\"\n",
      "V -> \"won\" | \"reported\"\n",
      "Det -> \"the\"\n",
      "CC -> \"that\"\n",
      "\n",
      "V -> \"saw\" | \"ate\" | \"walked\"\n",
      "NP -> \"John\" | \"Mary\" | \"Bob\" | Det N | Det N PP\n",
      "Det -> \"a\" | \"an\" | \"the\" | \"my\"\n",
      "N -> \"man\" | \"dog\" | \"cat\" | \"telescope\" | \"park\"\n",
      "P -> \"in\" | \"on\" | \"by\" | \"with\"\n",
      "\"\"\")\n",
      "parser=nltk.ChartParser(grammar)\n",
      "parser.parse(\"Jodie won the 100m freestyle\".lower().split())\n",
      "parser.parse(\"The Age reported that Jodie won the 100m freestyle\".lower().split())\n",
      "# parser.parse(\"Sandy said The Age reported that Jodie won the 100m freestyle\".split())\n",
      "# parser.parse(\"I think Sandy said The Age reported that Jodie won the 100m freestyle\".split())\n"
     ],
     "language": "python",
     "metadata": {},
     "outputs": [],
     "prompt_number": 13
    },
    {
     "cell_type": "raw",
     "metadata": {},
     "source": [
      "TODO\n",
      "Finish Question 3\n",
      "Make Anki card(s)"
     ]
    },
    {
     "cell_type": "code",
     "collapsed": false,
     "input": [],
     "language": "python",
     "metadata": {},
     "outputs": []
    }
   ],
   "metadata": {}
  }
 ]
}