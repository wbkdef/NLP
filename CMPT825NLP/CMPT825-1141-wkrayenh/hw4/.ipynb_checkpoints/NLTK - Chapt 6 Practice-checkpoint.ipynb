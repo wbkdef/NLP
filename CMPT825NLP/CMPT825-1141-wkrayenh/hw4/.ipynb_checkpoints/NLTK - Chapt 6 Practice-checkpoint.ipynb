{
 "metadata": {
  "name": ""
 },
 "nbformat": 3,
 "nbformat_minor": 0,
 "worksheets": [
  {
   "cells": [
    {
     "cell_type": "code",
     "collapsed": false,
     "input": [
      "import nltk"
     ],
     "language": "python",
     "metadata": {},
     "outputs": [],
     "prompt_number": 1
    },
    {
     "cell_type": "code",
     "collapsed": false,
     "input": [
      "from nltk.corpus import names\n",
      "import random\n",
      "names=[(name,'male') for name in names.words('male.txt')]+\\\n",
      "        [(name,'female') for name in names.words('female.txt')]\n",
      "random.shuffle(names)\n",
      "print names[:10]"
     ],
     "language": "python",
     "metadata": {},
     "outputs": [
      {
       "output_type": "stream",
       "stream": "stdout",
       "text": [
        "[('Bartholemy', 'male'), ('Ali', 'male'), ('Keefe', 'male'), ('Elisha', 'male'), ('Ajay', 'male'), ('Wenonah', 'female'), ('Michail', 'male'), ('Filippa', 'female'), ('Shane', 'female'), ('Rourke', 'male')]\n"
       ]
      }
     ],
     "prompt_number": 3
    },
    {
     "cell_type": "code",
     "collapsed": false,
     "input": [
      "def gender_features(name):\n",
      "    return {'last_letter':name[-1],'first_letter':name[-1],\\\n",
      "            'last_letters':name[-2:]}"
     ],
     "language": "python",
     "metadata": {},
     "outputs": [],
     "prompt_number": 21
    },
    {
     "cell_type": "code",
     "collapsed": false,
     "input": [
      "featuresets=[(gender_features(n),l) for n,l in names]\n",
      "print featuresets[:10]"
     ],
     "language": "python",
     "metadata": {},
     "outputs": [
      {
       "output_type": "stream",
       "stream": "stdout",
       "text": [
        "[({'first_letter': 'y', 'last_letters': 'my', 'last_letter': 'y'}, 'male'), ({'first_letter': 'i', 'last_letters': 'li', 'last_letter': 'i'}, 'male'), ({'first_letter': 'e', 'last_letters': 'fe', 'last_letter': 'e'}, 'male'), ({'first_letter': 'a', 'last_letters': 'ha', 'last_letter': 'a'}, 'male'), ({'first_letter': 'y', 'last_letters': 'ay', 'last_letter': 'y'}, 'male'), ({'first_letter': 'h', 'last_letters': 'ah', 'last_letter': 'h'}, 'female'), ({'first_letter': 'l', 'last_letters': 'il', 'last_letter': 'l'}, 'male'), ({'first_letter': 'a', 'last_letters': 'pa', 'last_letter': 'a'}, 'female'), ({'first_letter': 'e', 'last_letters': 'ne', 'last_letter': 'e'}, 'female'), ({'first_letter': 'e', 'last_letters': 'ke', 'last_letter': 'e'}, 'male')]\n"
       ]
      }
     ],
     "prompt_number": 22
    },
    {
     "cell_type": "code",
     "collapsed": false,
     "input": [
      "from nltk.classify import apply_features\n",
      "train=apply_features(gender_features,names[500:])\n",
      "test=apply_features(gender_features,names[:500])"
     ],
     "language": "python",
     "metadata": {},
     "outputs": [],
     "prompt_number": 31
    },
    {
     "cell_type": "code",
     "collapsed": false,
     "input": [
      "classifier=nltk.NaiveBayesClassifier.train(train)"
     ],
     "language": "python",
     "metadata": {},
     "outputs": [],
     "prompt_number": 32
    },
    {
     "cell_type": "code",
     "collapsed": false,
     "input": [
      "classifier.classify(gender_features('Neo'))"
     ],
     "language": "python",
     "metadata": {},
     "outputs": [
      {
       "metadata": {},
       "output_type": "pyout",
       "prompt_number": 33,
       "text": [
        "'male'"
       ]
      }
     ],
     "prompt_number": 33
    },
    {
     "cell_type": "code",
     "collapsed": false,
     "input": [
      "classifier.classify(gender_features('God'))"
     ],
     "language": "python",
     "metadata": {},
     "outputs": [
      {
       "metadata": {},
       "output_type": "pyout",
       "prompt_number": 34,
       "text": [
        "'male'"
       ]
      }
     ],
     "prompt_number": 34
    },
    {
     "cell_type": "code",
     "collapsed": false,
     "input": [
      "nltk.classify.accuracy(classifier,test)"
     ],
     "language": "python",
     "metadata": {},
     "outputs": [
      {
       "metadata": {},
       "output_type": "pyout",
       "prompt_number": 35,
       "text": [
        "0.762"
       ]
      }
     ],
     "prompt_number": 35
    },
    {
     "cell_type": "code",
     "collapsed": false,
     "input": [
      "classifier.show_most_informative_features(10)"
     ],
     "language": "python",
     "metadata": {},
     "outputs": [
      {
       "output_type": "stream",
       "stream": "stdout",
       "text": [
        "Most Informative Features\n",
        "            last_letters = 'na'           female : male   =     99.3 : 1.0\n",
        "            last_letters = 'la'           female : male   =     75.5 : 1.0\n",
        "            last_letters = 'ia'           female : male   =     39.7 : 1.0\n",
        "            last_letters = 'sa'           female : male   =     36.4 : 1.0\n",
        "             last_letter = 'a'            female : male   =     35.5 : 1.0\n",
        "            first_letter = 'a'            female : male   =     35.5 : 1.0\n",
        "            last_letters = 'ta'           female : male   =     32.3 : 1.0\n",
        "            last_letters = 'us'             male : female =     29.4 : 1.0\n",
        "             last_letter = 'k'              male : female =     29.0 : 1.0\n",
        "            first_letter = 'k'              male : female =     29.0 : 1.0\n"
       ]
      }
     ],
     "prompt_number": 36
    },
    {
     "cell_type": "code",
     "collapsed": false,
     "input": [
      "import nltk\n",
      "names=[(name, 'male') for name in nltk.corpus.names.words(\"male.txt\")]+\\\n",
      "    [(name, 'female') for name in nltk.corpus.names.words(\"female.txt\")]\n",
      "import random\n",
      "random.shuffle(names)\n",
      "print names[:10]"
     ],
     "language": "python",
     "metadata": {},
     "outputs": [
      {
       "output_type": "stream",
       "stream": "stdout",
       "text": [
        "[('Erl', 'male'), ('Bailey', 'male'), ('Haskell', 'male'), ('Madelle', 'female'), ('Marcellina', 'female'), ('Jeffry', 'male'), ('Woody', 'male'), ('Saundra', 'female'), ('Joycelin', 'female'), ('Dorthy', 'female')]\n"
       ]
      }
     ],
     "prompt_number": 40
    },
    {
     "cell_type": "code",
     "collapsed": false,
     "input": [
      "def make_feats(name):\n",
      "    s={}\n",
      "    s[\"ll\"]=name[-1]\n",
      "    s[\"l2l\"]=name[-2:]\n",
      "    s[\"fl\"]=name[0]\n",
      "    return s\n",
      "train=nltk.classify.apply_features(make_feats,names[500:])\n",
      "# train=[(make_feats(name),label) for name, label in names[500:]]\n",
      "test=nltk.classify.apply_features(make_feats,names[:500])\n",
      "\n",
      "# for i in range(10):\n",
      "#     print train[i]\n",
      "classifier=nltk.NaiveBayesClassifier.train(train)\n",
      "for i in range(10):\n",
      "    print train[i], classifier.classify(train[i][0])\n",
      "classifier.show_most_informative_features(10)\n",
      "print nltk.classify.accuracy(classifier, test)"
     ],
     "language": "python",
     "metadata": {},
     "outputs": [
      {
       "output_type": "stream",
       "stream": "stdout",
       "text": [
        "({'ll': 'i', 'fl': 'D', 'l2l': 'ri'}, 'male') female\n",
        "({'ll': 'e', 'fl': 'Z', 'l2l': 'ie'}, 'male') female\n",
        "({'ll': 'm', 'fl': 'M', 'l2l': 'lm'}, 'male') male\n",
        "({'ll': 'n', 'fl': 'G', 'l2l': 'en'}, 'male') male\n",
        "({'ll': 'e', 'fl': 'Z', 'l2l': 'ne'}, 'male') female\n",
        "({'ll': 'o', 'fl': 'M', 'l2l': 'lo'}, 'female') male\n",
        "({'ll': 'l', 'fl': 'A', 'l2l': 'il'}, 'female') male\n",
        "({'ll': 'e', 'fl': 'P', 'l2l': 'ce'}, 'male') female\n",
        "({'ll': 'a', 'fl': 'M', 'l2l': 'ya'}, 'female') female\n",
        "({'ll': 'e', 'fl': 'P', 'l2l': 'ie'}, 'male') female\n",
        "Most Informative Features\n",
        "                     l2l = 'na'           female : male   =     98.0 : 1.0\n",
        "                     l2l = 'la'           female : male   =     75.4 : 1.0\n",
        "                     l2l = 'ia'           female : male   =     39.7 : 1.0\n",
        "                     l2l = 'sa'           female : male   =     34.8 : 1.0\n",
        "                      ll = 'a'            female : male   =     33.0 : 1.0\n",
        "                      ll = 'k'              male : female =     32.9 : 1.0\n",
        "                     l2l = 'us'             male : female =     29.4 : 1.0\n",
        "                     l2l = 'do'             male : female =     27.4 : 1.0\n",
        "                     l2l = 'ra'           female : male   =     27.0 : 1.0\n",
        "                     l2l = 'rd'             male : female =     25.9 : 1.0\n",
        "0.792"
       ]
      },
      {
       "output_type": "stream",
       "stream": "stdout",
       "text": [
        "\n"
       ]
      }
     ],
     "prompt_number": 59
    },
    {
     "cell_type": "code",
     "collapsed": false,
     "input": [
      "import nltk, random\n",
      "from nltk.corpus import names\n",
      "name_label=[(n,'m') for n in names.words('male.txt')]+[(n,'f') for n in names.words('female.txt')]\n",
      "random.shuffle(name_label)\n",
      "def get_feats(n):\n",
      "    if not isinstance(n,str):\n",
      "        print n\n",
      "        assert False\n",
      "    d={}\n",
      "    d['ll']=n[-1]\n",
      "    d['l2l']=n[-2:]\n",
      "    d['fl']=n[0]\n",
      "    return d\n",
      "tr=nltk.classify.apply_features(get_feats,name_label[1000:])\n",
      "dev_names=name_label[500:1000]\n",
      "dev=nltk.classify.apply_features(get_feats, dev_names)\n",
      "te_names=name_label[:500]\n",
      "te=nltk.classify.apply_features(get_feats,te_names)\n",
      "c=nltk.NaiveBayesClassifier.train(dev)\n",
      "print nltk.classify.accuracy(c,dev)\n",
      "i=0\n",
      "print \"{:<15}{:<30}{:<15}{:<15}\".format(\"name\",\"feats\",\"prediction\",\"correct label\")\n",
      "for name,label in dev_names:\n",
      "    feats=get_feats(name)\n",
      "    pred=c.classify(feats)\n",
      "    if pred!=label:\n",
      "        print \"{:<15}{:<30}{:<15}{:<15}\".format(\"NA\",feats,pred,label)\n",
      "        i+=1\n",
      "        if i>=20:\n",
      "            break\n"
     ],
     "language": "python",
     "metadata": {},
     "outputs": [
      {
       "output_type": "stream",
       "stream": "stdout",
       "text": [
        "0.85\n",
        "name           feats          prediction     correct label  \n",
        "NA             {'ll': 'n', 'fl': 'G', 'l2l': 'in'}m              f              \n",
        "NA             {'ll': 'r', 'fl': 'F', 'l2l': 'ur'}m              f              \n",
        "NA             {'ll': 'e', 'fl': 'Z', 'l2l': 'ne'}f              m              \n",
        "NA             {'ll': 'o', 'fl': 'Y', 'l2l': 'ko'}m              f              \n",
        "NA             {'ll': 'e', 'fl': 'H', 'l2l': 'ie'}f              m              \n",
        "NA             {'ll': 'n', 'fl': 'B', 'l2l': 'yn'}f              m              \n",
        "NA             {'ll': 't', 'fl': 'G', 'l2l': 'rt'}m              f              \n",
        "NA             {'ll': 'e', 'fl': 'P', 'l2l': 'te'}f              m              \n",
        "NA             {'ll': 'y', 'fl': 'S', 'l2l': 'ey'}f              m              \n",
        "NA             {'ll': 'e', 'fl': 'T', 'l2l': 'ie'}f              m              \n",
        "NA             {'ll': 'e', 'fl': 'J', 'l2l': 'ie'}f              m              \n",
        "NA             {'ll': 'e', 'fl': 'A', 'l2l': 'ie'}f              m              \n",
        "NA             {'ll': 's', 'fl': 'D', 'l2l': 'is'}m              f              \n",
        "NA             {'ll': 'y', 'fl': 'B', 'l2l': 'ry'}m              f              \n",
        "NA             {'ll': 'h', 'fl': 'T', 'l2l': 'sh'}m              f              \n",
        "NA             {'ll': 's', 'fl': 'J', 'l2l': 'us'}m              f              \n",
        "NA             {'ll': 'h', 'fl': 'E', 'l2l': 'th'}m              f              \n",
        "NA             {'ll': 'l', 'fl': 'R', 'l2l': 'el'}f              m              \n",
        "NA             {'ll': 'e', 'fl': 'S', 'l2l': 'ne'}f              m              \n",
        "NA             {'ll': 'e', 'fl': 'S', 'l2l': 'se'}f              m              \n"
       ]
      }
     ],
     "prompt_number": 74
    },
    {
     "cell_type": "code",
     "collapsed": false,
     "input": [],
     "language": "python",
     "metadata": {},
     "outputs": []
    }
   ],
   "metadata": {}
  }
 ]
}