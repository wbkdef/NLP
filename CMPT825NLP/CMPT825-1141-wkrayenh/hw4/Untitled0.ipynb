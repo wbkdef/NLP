{
 "metadata": {
  "name": ""
 },
 "nbformat": 3,
 "nbformat_minor": 0,
 "worksheets": [
  {
   "cells": [
    {
     "cell_type": "code",
     "collapsed": false,
     "input": [
      "import nltk"
     ],
     "language": "python",
     "metadata": {},
     "outputs": [],
     "prompt_number": 1
    },
    {
     "cell_type": "code",
     "collapsed": false,
     "input": [
      "grammar=nltk.parse_cfg(\"\"\"\n",
      "S -> NP V CC S\n",
      "S -> NP VP\n",
      "VP -> V NP | V NP PP\n",
      "PP -> P NP\n",
      "NP -> N | Det NP | Det JJ NP\n",
      "JJ -> \"100m\"\n",
      "N -> \"jodie\" | \"freestyle\" | \"age\"\n",
      "V -> \"won\" | \"reported\"\n",
      "Det -> \"the\"\n",
      "CC -> \"that\"\n",
      "\n",
      "V -> \"saw\" | \"ate\" | \"walked\"\n",
      "NP -> \"John\" | \"Mary\" | \"Bob\" | Det N | Det N PP\n",
      "Det -> \"a\" | \"an\" | \"the\" | \"my\"\n",
      "N -> \"man\" | \"dog\" | \"cat\" | \"telescope\" | \"park\"\n",
      "P -> \"in\" | \"on\" | \"by\" | \"with\"\n",
      "\"\"\")\n",
      "parser=nltk.ChartParser(grammar)\n",
      "# parser.parse(\"Jodie won the 100m freestyle\".lower().split())\n",
      "p=parser.parse(\"The Age reported that Jodie won the 100m freestyle\".lower().split())\n",
      "print p\n",
      "p.draw()"
     ],
     "language": "python",
     "metadata": {},
     "outputs": [
      {
       "output_type": "stream",
       "stream": "stdout",
       "text": [
        "(S\n",
        "  (NP (Det the) (NP (N age)))\n",
        "  (V reported)\n",
        "  (CC that)\n",
        "  (S\n",
        "    (NP (N jodie))\n",
        "    (VP (V won) (NP (Det the) (JJ 100m) (NP (N freestyle))))))\n"
       ]
      }
     ],
     "prompt_number": 5
    },
    {
     "cell_type": "heading",
     "level": 3,
     "metadata": {},
     "source": [
      "Noun Phrase Chunking"
     ]
    },
    {
     "cell_type": "code",
     "collapsed": false,
     "input": [
      "grammar=\"NP : {<DT>?<JJ>*<NN>}\"\n",
      "p=nltk.RegexpParser(grammar)\n"
     ],
     "language": "python",
     "metadata": {},
     "outputs": [],
     "prompt_number": 8
    },
    {
     "cell_type": "code",
     "collapsed": false,
     "input": [
      "sentence = [(\"the\", \"DT\"), (\"little\", \"JJ\"), (\"yellow\", \"JJ\"), \n",
      "... (\"dog\", \"NN\"), (\"barked\", \"VBD\"), (\"at\", \"IN\"), (\"the\", \"DT\"), (\"cat\", \"NN\")]\n",
      "parse=p.parse(sentence)\n",
      "print parse\n",
      "parse.draw()"
     ],
     "language": "python",
     "metadata": {},
     "outputs": [
      {
       "output_type": "stream",
       "stream": "stdout",
       "text": [
        "(S\n",
        "  (NP the/DT little/JJ yellow/JJ dog/NN)\n",
        "  barked/VBD\n",
        "  at/IN\n",
        "  (NP the/DT cat/NN))\n"
       ]
      }
     ],
     "prompt_number": 12
    },
    {
     "cell_type": "heading",
     "level": 3,
     "metadata": {},
     "source": [
      "CFG Parsing"
     ]
    },
    {
     "cell_type": "raw",
     "metadata": {},
     "source": [
      "Jodie won the 100m freestyle\n",
      "'The Age' reported that Jodie won the 100m freestyle\n",
      "Sandy said 'The Age' reported that Jodie won the 100m freestyle\n",
      "I think Sandy said 'The Age' reported that Jodie won the 100m freestyle"
     ]
    },
    {
     "cell_type": "code",
     "collapsed": false,
     "input": [
      "grammar = nltk.parse_cfg(\"\"\"\n",
      "S -> NP VP | NP V CC S | NP V S\n",
      "NP -> Det N | Det N PP | Det JJ N | N\n",
      "VP -> V NP | V NP PP | V\n",
      "Det -> 'a' | 'an' | 'the' | 'my'\n",
      "N -> \"jodie\" | \"freestyle\" | \"age\" | \"sandy\" | \"i\"\n",
      "V -> \"won\" | \"reported\" | \"said\" | \"think\"\n",
      "PP -> P NP\n",
      "P -> 'in' | 'on' | 'by' | 'with'\n",
      "JJ -> '100m'\n",
      "CC -> 'that'\n",
      "\"\"\")\n",
      "parser=nltk.ChartParser(grammar)"
     ],
     "language": "python",
     "metadata": {},
     "outputs": [],
     "prompt_number": 38
    },
    {
     "cell_type": "code",
     "collapsed": false,
     "input": [
      "def get_parse(sentence):\n",
      "    sentence=sentence.lower().replace(\"'\",\"\").split()\n",
      "    p=parser.parse(sentence)\n",
      "    print sentence\n",
      "    print p\n",
      "    return \n",
      "print get_parse(\"Jodie won the 100m freestyle\")\n",
      "print get_parse(\"The Age reported that Jodie won the 100m freestyle\")\n",
      "print get_parse(\"Sandy said 'The Age' reported that Jodie won the 100m freestyle\")\n",
      "print get_parse(\"I think Sandy said 'The Age' reported that Jodie won the 100m freestyle\")"
     ],
     "language": "python",
     "metadata": {},
     "outputs": [
      {
       "output_type": "stream",
       "stream": "stdout",
       "text": [
        "['jodie', 'won', 'the', '100m', 'freestyle']\n",
        "(S\n",
        "  (NP (N jodie))\n",
        "  (VP (V won) (NP (Det the) (JJ 100m) (N freestyle))))\n",
        "None\n",
        "['the', 'age', 'reported', 'that', 'jodie', 'won', 'the', '100m', 'freestyle']\n",
        "(S\n",
        "  (NP (Det the) (N age))\n",
        "  (V reported)\n",
        "  (CC that)\n",
        "  (S\n",
        "    (NP (N jodie))\n",
        "    (VP (V won) (NP (Det the) (JJ 100m) (N freestyle)))))\n",
        "None\n",
        "['sandy', 'said', 'the', 'age', 'reported', 'that', 'jodie', 'won', 'the', '100m', 'freestyle']\n",
        "(S\n",
        "  (NP (N sandy))\n",
        "  (V said)\n",
        "  (S\n",
        "    (NP (Det the) (N age))\n",
        "    (V reported)\n",
        "    (CC that)\n",
        "    (S\n",
        "      (NP (N jodie))\n",
        "      (VP (V won) (NP (Det the) (JJ 100m) (N freestyle))))))\n",
        "None\n",
        "['i', 'think', 'sandy', 'said', 'the', 'age', 'reported', 'that', 'jodie', 'won', 'the', '100m', 'freestyle']\n",
        "(S\n",
        "  (NP (N i))\n",
        "  (V think)\n",
        "  (S\n",
        "    (NP (N sandy))\n",
        "    (V said)\n",
        "    (S\n",
        "      (NP (Det the) (N age))\n",
        "      (V reported)\n",
        "      (CC that)\n",
        "      (S\n",
        "        (NP (N jodie))\n",
        "        (VP (V won) (NP (Det the) (JJ 100m) (N freestyle)))))))\n",
        "None\n"
       ]
      }
     ],
     "prompt_number": 40
    },
    {
     "cell_type": "code",
     "collapsed": false,
     "input": [
      "\"Hi there\".split()"
     ],
     "language": "python",
     "metadata": {},
     "outputs": [
      {
       "metadata": {},
       "output_type": "pyout",
       "prompt_number": 17,
       "text": [
        "['Hi', 'there']"
       ]
      }
     ],
     "prompt_number": 17
    },
    {
     "cell_type": "code",
     "collapsed": false,
     "input": [
      "grammar=nltk.parse_cfg(\"\"\"\n",
      "S -> NP V CC S | NP V S\n",
      "S -> NP VP\n",
      "VP -> V NP | V NP PP\n",
      "PP -> P NP\n",
      "NP -> N | Det NP | Det JJ NP\n",
      "JJ -> \"100m\"\n",
      "N -> \"jodie\" | \"freestyle\" | \"age\" | \"sandy\" | \"i\"\n",
      "V -> \"won\" | \"reported\" | \"said\" | \"think\"\n",
      "Det -> \"the\"\n",
      "CC -> \"that\"\n",
      "\"\"\")\n",
      "parser=nltk.ChartParser(grammar)\n",
      "p=parser.parse(\"Jodie won the 100m freestyle\".lower().split())\n",
      "print p"
     ],
     "language": "python",
     "metadata": {},
     "outputs": [
      {
       "output_type": "stream",
       "stream": "stdout",
       "text": [
        "(S\n",
        "  (NP (N jodie))\n",
        "  (VP (V won) (NP (Det the) (JJ 100m) (NP (N freestyle)))))\n"
       ]
      }
     ],
     "prompt_number": 30
    },
    {
     "cell_type": "heading",
     "level": 3,
     "metadata": {},
     "source": [
      "Noun Phrase Chunking"
     ]
    },
    {
     "cell_type": "code",
     "collapsed": false,
     "input": [
      "sentence = [(\"the\", \"DT\"), (\"little\", \"JJ\"), (\"yellow\", \"JJ\"), \n",
      "... (\"dog\", \"NN\"), (\"barked\", \"VBD\"), (\"at\", \"IN\"), (\"the\", \"DT\"), (\"cat\", \"NN\")]"
     ],
     "language": "python",
     "metadata": {},
     "outputs": [],
     "prompt_number": 41
    },
    {
     "cell_type": "code",
     "collapsed": false,
     "input": [
      "grammar=\"NP : {<DT>?<JJ>*<NN>+}\"\n",
      "parser=nltk.RegexpParser(grammar)\n",
      "print parser.parse(sentence)"
     ],
     "language": "python",
     "metadata": {},
     "outputs": [
      {
       "output_type": "stream",
       "stream": "stdout",
       "text": [
        "(S\n",
        "  (NP the/DT little/JJ yellow/JJ dog/NN)\n",
        "  barked/VBD\n",
        "  at/IN\n",
        "  (NP the/DT cat/NN))\n"
       ]
      }
     ],
     "prompt_number": 43
    },
    {
     "cell_type": "heading",
     "level": 3,
     "metadata": {},
     "source": [
      "    CFG Parsing"
     ]
    },
    {
     "cell_type": "code",
     "collapsed": false,
     "input": [
      "Jodie won the 100m freestyle\n",
      "'The Age' reported that Jodie won the 100m freestyle\n",
      "Sandy said 'The Age' reported that Jodie won the 100m freestyle\n",
      "I think Sandy said 'The Age' reported that Jodie won the 100m freestyle"
     ],
     "language": "python",
     "metadata": {},
     "outputs": []
    },
    {
     "cell_type": "code",
     "collapsed": false,
     "input": [
      "grammar_string = \"\"\"\n",
      "S -> NP VP\n",
      "NP -> 'John' | 'Mary' | 'Bob' | Det N | Det JJ N | Det N PP | N\n",
      "VP -> V NP | V NP PP\n",
      "Det -> 'a' | 'an' | 'the' | 'my'\n",
      "N -> \"jodie\" | \"freestyle\" | \"age\" | \"sandy\" | \"i\"\n",
      "V -> \"won\" | \"reported\" | \"said\" | \"think\"\n",
      "PP -> P NP\n",
      "P -> 'in' | 'on' | 'by' | 'with'\n",
      "JJ -> \"100m\"\n",
      "\"\"\"\n",
      "grammar=nltk.parse_cfg(grammar_string)\n",
      "parser=nltk.ChartParser(grammar)\n",
      "def get_parse(sentence):\n",
      "    sentence=sentence.lower().replace(\"'\",\"\").split()\n",
      "    return parser.parse(sentence)\n",
      "print get_parse(\"Jodie won the 100m freestyle\")\n",
      "    "
     ],
     "language": "python",
     "metadata": {},
     "outputs": [
      {
       "output_type": "stream",
       "stream": "stdout",
       "text": [
        "(S\n",
        "  (NP (N jodie))\n",
        "  (VP (V won) (NP (Det the) (JJ 100m) (N freestyle))))\n"
       ]
      }
     ],
     "prompt_number": 48
    },
    {
     "cell_type": "code",
     "collapsed": false,
     "input": [],
     "language": "python",
     "metadata": {},
     "outputs": []
    }
   ],
   "metadata": {}
  }
 ]
}